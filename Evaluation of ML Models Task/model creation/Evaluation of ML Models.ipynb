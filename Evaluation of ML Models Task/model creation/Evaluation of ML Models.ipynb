{
 "cells": [
  {
   "cell_type": "markdown",
   "id": "96aa899f-c777-44ca-b6de-2beda31d839f",
   "metadata": {},
   "source": [
    "# import the important needs"
   ]
  },
  {
   "cell_type": "code",
   "execution_count": 2,
   "id": "abc5a772-af33-4680-adde-ed959db86d35",
   "metadata": {},
   "outputs": [],
   "source": [
    "import os\n",
    "import pickle\n",
    "\n",
    "import numpy as np\n",
    "import pandas as pd\n",
    "import matplotlib.pyplot as plt\n",
    "from sklearn.base import BaseEstimator, TransformerMixin\n",
    "from sklearn.compose import ColumnTransformer\n",
    "from sklearn.ensemble import RandomForestClassifier\n",
    "from sklearn.inspection import permutation_importance\n",
    "from sklearn.linear_model import LogisticRegression\n",
    "from sklearn.metrics import (\n",
    "    accuracy_score,\n",
    "    classification_report,\n",
    "    confusion_matrix,\n",
    "    ConfusionMatrixDisplay,\n",
    "    roc_curve,\n",
    "    auc\n",
    ")\n",
    "from sklearn.model_selection import GridSearchCV, train_test_split\n",
    "from sklearn.pipeline import Pipeline\n",
    "from sklearn.preprocessing import MinMaxScaler, OneHotEncoder\n",
    "from sklearn.svm import SVC\n",
    "from sklearn.tree import DecisionTreeClassifier\n",
    "from xgboost import XGBClassifier\n",
    "from sklearn.metrics import classification_report, accuracy_score, recall_score, precision_score\n",
    "\n"
   ]
  },
  {
   "cell_type": "markdown",
   "id": "2c442fb1-eb31-4e8b-b045-3992783c7e7c",
   "metadata": {},
   "source": [
    "# Pipeline for Preprocessing Input Features and Target Feature\n",
    "\n",
    "This pipeline includes the following preprocessing steps:\n",
    "\n",
    "## Input Features\n",
    "1. **Normalization for Income**: \n",
    "   - Scaling the income values to a range between 0 and 1.\n",
    "   \n",
    "2. **Boolean Conversion**: \n",
    "   - Converting the string values \"Yes\" and \"No\" to numerical values 1 and 0 in the columns `Own_Car` and `Own_Housing`.\n",
    "\n",
    "3. **One-Hot Encoding for Gender**: \n",
    "   - Applying one-hot encoding to the `Gender` column, as encoding gender as just 0 and 1 may not fairly represent the contribution of each category.\n",
    "\n",
    "## Target Feature\n",
    "- **Target Conversion**: \n",
    "   - Mapping the string values \"Approved\" to 1 and \"Denied\" to 0 in the target feature.\n"
   ]
  },
  {
   "cell_type": "code",
   "execution_count": 4,
   "id": "75846347-81f8-4226-a38d-3b6d2d8a2873",
   "metadata": {},
   "outputs": [],
   "source": [
    "class BooleanConverter(BaseEstimator, TransformerMixin):\n",
    "    \"\"\"Convert boolean columns ('Yes'/'No') to 1/0.\"\"\"\n",
    "    def __init__(self, columns=None):\n",
    "        self.columns = columns\n",
    "    \n",
    "    def fit(self, X, y=None):\n",
    "        return self\n",
    "    \n",
    "    def transform(self, X):\n",
    "        X = X.copy()\n",
    "        for col in self.columns:\n",
    "            X[col] = X[col].map({'Yes': 1, 'No': 0})\n",
    "        return X\n",
    "\n",
    "class CustomMinMaxScaler(BaseEstimator, TransformerMixin):\n",
    "    \"\"\"Custom MinMaxScaler that scales data to a specified range.\"\"\"\n",
    "    def __init__(self):\n",
    "        self.data_min = 30000\n",
    "        self.data_max = 119999\n",
    "    \n",
    "    def fit(self, X, y=None):\n",
    "        return self\n",
    "    \n",
    "    def transform(self, X):\n",
    "        X = X.copy()\n",
    "        # Scale data between 0 and 1 based on data min and max\n",
    "        scaled_data = (X - self.data_min) / (self.data_max - self.data_min)\n",
    "        return scaled_data\n",
    "\n",
    "class DataPreprocessingPipeline:\n",
    "    \"\"\"Pipeline for feature preprocessing.\"\"\"\n",
    "    def __init__(self):\n",
    "        self.pipeline = Pipeline(steps=[\n",
    "            ('normalization', ColumnTransformer(transformers=[\n",
    "                ('normalize_income', CustomMinMaxScaler(), ['Income']),\n",
    "                ('convert_booleans', BooleanConverter(columns=['Own_Car', 'Own_Housing']), ['Own_Car', 'Own_Housing']),\n",
    "                ('one_hot_gender', OneHotEncoder(), ['Gender'])  # Keep all categories for Gender\n",
    "            ], remainder='passthrough'))\n",
    "        ])\n",
    "    \n",
    "    def fit_transform(self, df):\n",
    "        return self.pipeline.fit_transform(df)\n",
    "\n",
    "class TargetPreprocessingPipeline:\n",
    "    \"\"\"Pipeline for target preprocessing.\"\"\"\n",
    "    def __init__(self):\n",
    "        pass\n",
    "    \n",
    "    def fit_transform(self, y):\n",
    "        return y.map({'Denied': 0, 'Approved': 1})\n",
    "\n"
   ]
  },
  {
   "cell_type": "markdown",
   "id": "09159f93-a68d-4101-a517-63e0be20eef6",
   "metadata": {},
   "source": [
    "# Create ModelManager to help in saving  and loading the best model"
   ]
  },
  {
   "cell_type": "code",
   "execution_count": 7,
   "id": "f6d10a65-ab36-4983-9bb3-0a03cf25cf02",
   "metadata": {},
   "outputs": [],
   "source": [
    "class ModelManager:\n",
    "    def __init__(self, directory=\"\"):\n",
    "        self.directory = directory  \n",
    "    \n",
    "    def save_models_separately(self, best_models):\n",
    "        for entry in best_models:\n",
    "            model_name = entry['model'].__class__.__name__  # Get the model's class name\n",
    "            filename = os.path.join(self.directory, f\"{model_name}_best_model.pkl\")  # Create the filepath\n",
    "            with open(filename, 'wb') as file:\n",
    "                pickle.dump(entry, file)  # Save the model and its parameters in a pickle file\n",
    "            print(f\"Saved {model_name} to {filename}\")\n",
    "    \n",
    "    def load_model(self, model_name):\n",
    "        filename = os.path.join(self.directory, f\"{model_name}_best_model.pkl\")\n",
    "        print(f\"Looking for {model_name} at {filename}\")\n",
    "        if os.path.exists(filename):\n",
    "            with open(filename, 'rb') as file:\n",
    "                model_data = pickle.load(file)  # Load the model and its parameters from a pickle file\n",
    "            print(f\"Loaded {model_name} from {filename}\")\n",
    "            return model_data\n",
    "        else:\n",
    "            print(f\"No model file found for {model_name}\")\n",
    "            return None\n"
   ]
  },
  {
   "cell_type": "markdown",
   "id": "de985cc1-2dfd-4382-8264-e28c6c61f912",
   "metadata": {},
   "source": [
    "# Model Prediction Pipeline Summary\n",
    "\n",
    "The `ModelPredictionPipeline` class facilitates loading a pre-trained machine learning model from a pickle file and making predictions on new data. \n"
   ]
  },
  {
   "cell_type": "code",
   "execution_count": 10,
   "id": "d6aebde7-1e3f-4830-ba29-d266745b67b7",
   "metadata": {},
   "outputs": [],
   "source": [
    "class ModelPredictionPipeline:\n",
    "    def __init__(self, model_path):\n",
    "        # Load the pre-trained model from the pickle file\n",
    "        with open(model_path, 'rb') as file:\n",
    "            model_data = pickle.load(file)\n",
    "            self.model = model_data['model'] \n",
    "        self.feature_pipeline = DataPreprocessingPipeline()\n",
    "\n",
    "    def predict(self, X):\n",
    "        # Preprocess features\n",
    "        X_transformed = self.feature_pipeline.fit_transform(X)\n",
    "        feature_names = (['Income', 'Own_Car', 'Own_Housing','Gender_Female','Gender_Male','Num_Children'])\n",
    "        X_transformed=pd.DataFrame(X_transformed, columns=feature_names)\n",
    "\n",
    "        # Make predictions using the pre-trained model\n",
    "        return self.model.predict(X_transformed)"
   ]
  },
  {
   "cell_type": "markdown",
   "id": "69871c2e-1c11-4079-91fa-6ccbe20d10dd",
   "metadata": {},
   "source": [
    "# load the orginal dataset"
   ]
  },
  {
   "cell_type": "code",
   "execution_count": 13,
   "id": "64e9aaca-4c3f-4555-864c-01cf3907bcd9",
   "metadata": {},
   "outputs": [
    {
     "data": {
      "text/html": [
       "<div>\n",
       "<style scoped>\n",
       "    .dataframe tbody tr th:only-of-type {\n",
       "        vertical-align: middle;\n",
       "    }\n",
       "\n",
       "    .dataframe tbody tr th {\n",
       "        vertical-align: top;\n",
       "    }\n",
       "\n",
       "    .dataframe thead th {\n",
       "        text-align: right;\n",
       "    }\n",
       "</style>\n",
       "<table border=\"1\" class=\"dataframe\">\n",
       "  <thead>\n",
       "    <tr style=\"text-align: right;\">\n",
       "      <th></th>\n",
       "      <th>Num_Children</th>\n",
       "      <th>Gender</th>\n",
       "      <th>Income</th>\n",
       "      <th>Own_Car</th>\n",
       "      <th>Own_Housing</th>\n",
       "      <th>Credit_Card_Issuing</th>\n",
       "    </tr>\n",
       "  </thead>\n",
       "  <tbody>\n",
       "    <tr>\n",
       "      <th>0</th>\n",
       "      <td>1</td>\n",
       "      <td>Male</td>\n",
       "      <td>40690</td>\n",
       "      <td>No</td>\n",
       "      <td>Yes</td>\n",
       "      <td>Denied</td>\n",
       "    </tr>\n",
       "    <tr>\n",
       "      <th>1</th>\n",
       "      <td>2</td>\n",
       "      <td>Female</td>\n",
       "      <td>75469</td>\n",
       "      <td>Yes</td>\n",
       "      <td>No</td>\n",
       "      <td>Denied</td>\n",
       "    </tr>\n",
       "  </tbody>\n",
       "</table>\n",
       "</div>"
      ],
      "text/plain": [
       "   Num_Children  Gender  Income Own_Car Own_Housing Credit_Card_Issuing\n",
       "0             1    Male   40690      No         Yes              Denied\n",
       "1             2  Female   75469     Yes          No              Denied"
      ]
     },
     "execution_count": 13,
     "metadata": {},
     "output_type": "execute_result"
    }
   ],
   "source": [
    "data_path= 'credit_card_train.csv'\n",
    "df=pd.read_csv(data_path)\n",
    "df.head(2)"
   ]
  },
  {
   "cell_type": "markdown",
   "id": "b9f4c3e3-002d-4621-bf67-75fb4747e987",
   "metadata": {},
   "source": [
    "# Use the DataPreprocessingPipeline to do the preprocessing step for both input and target features"
   ]
  },
  {
   "cell_type": "code",
   "execution_count": 16,
   "id": "e239e20b-391d-4920-9037-294744683416",
   "metadata": {},
   "outputs": [],
   "source": [
    "# Create instances of preprocessing pipelines\n",
    "feature_pipeline = DataPreprocessingPipeline()\n",
    "target_pipeline = TargetPreprocessingPipeline()\n",
    "\n",
    "feature_names = (['Income', 'Own_Car', 'Own_Housing','Gender_Female','Gender_Male','Num_Children'])# Prepare features and target\n",
    "X = df.drop('Credit_Card_Issuing', axis=1)  # Features\n",
    "y = df['Credit_Card_Issuing']  # Target\n",
    "\n",
    "# Apply feature preprocessing\n",
    "X_processed = feature_pipeline.fit_transform(X)\n",
    "X_processed=pd.DataFrame(X_processed, columns=feature_names)\n",
    "\n",
    "# Apply target preprocessing\n",
    "y_processed = target_pipeline.fit_transform(y)\n",
    "y_processed=pd.DataFrame(y_processed, columns=['Credit_Card_Issuing'])"
   ]
  },
  {
   "cell_type": "code",
   "execution_count": 18,
   "id": "4043d9c1-b96a-4df1-90bf-c2e3173a18ed",
   "metadata": {},
   "outputs": [
    {
     "data": {
      "text/html": [
       "<div>\n",
       "<style scoped>\n",
       "    .dataframe tbody tr th:only-of-type {\n",
       "        vertical-align: middle;\n",
       "    }\n",
       "\n",
       "    .dataframe tbody tr th {\n",
       "        vertical-align: top;\n",
       "    }\n",
       "\n",
       "    .dataframe thead th {\n",
       "        text-align: right;\n",
       "    }\n",
       "</style>\n",
       "<table border=\"1\" class=\"dataframe\">\n",
       "  <thead>\n",
       "    <tr style=\"text-align: right;\">\n",
       "      <th></th>\n",
       "      <th>Income</th>\n",
       "      <th>Own_Car</th>\n",
       "      <th>Own_Housing</th>\n",
       "      <th>Gender_Female</th>\n",
       "      <th>Gender_Male</th>\n",
       "      <th>Num_Children</th>\n",
       "    </tr>\n",
       "  </thead>\n",
       "  <tbody>\n",
       "    <tr>\n",
       "      <th>0</th>\n",
       "      <td>0.118779</td>\n",
       "      <td>0.0</td>\n",
       "      <td>1.0</td>\n",
       "      <td>0.0</td>\n",
       "      <td>1.0</td>\n",
       "      <td>1.0</td>\n",
       "    </tr>\n",
       "    <tr>\n",
       "      <th>1</th>\n",
       "      <td>0.505217</td>\n",
       "      <td>1.0</td>\n",
       "      <td>0.0</td>\n",
       "      <td>1.0</td>\n",
       "      <td>0.0</td>\n",
       "      <td>2.0</td>\n",
       "    </tr>\n",
       "  </tbody>\n",
       "</table>\n",
       "</div>"
      ],
      "text/plain": [
       "     Income  Own_Car  Own_Housing  Gender_Female  Gender_Male  Num_Children\n",
       "0  0.118779      0.0          1.0            0.0          1.0           1.0\n",
       "1  0.505217      1.0          0.0            1.0          0.0           2.0"
      ]
     },
     "execution_count": 18,
     "metadata": {},
     "output_type": "execute_result"
    }
   ],
   "source": [
    "X_processed.head(2)"
   ]
  },
  {
   "cell_type": "code",
   "execution_count": 20,
   "id": "aee65f3a-0319-43b1-adff-7647dcc2d70e",
   "metadata": {},
   "outputs": [
    {
     "data": {
      "text/html": [
       "<div>\n",
       "<style scoped>\n",
       "    .dataframe tbody tr th:only-of-type {\n",
       "        vertical-align: middle;\n",
       "    }\n",
       "\n",
       "    .dataframe tbody tr th {\n",
       "        vertical-align: top;\n",
       "    }\n",
       "\n",
       "    .dataframe thead th {\n",
       "        text-align: right;\n",
       "    }\n",
       "</style>\n",
       "<table border=\"1\" class=\"dataframe\">\n",
       "  <thead>\n",
       "    <tr style=\"text-align: right;\">\n",
       "      <th></th>\n",
       "      <th>Credit_Card_Issuing</th>\n",
       "    </tr>\n",
       "  </thead>\n",
       "  <tbody>\n",
       "    <tr>\n",
       "      <th>0</th>\n",
       "      <td>0</td>\n",
       "    </tr>\n",
       "    <tr>\n",
       "      <th>1</th>\n",
       "      <td>0</td>\n",
       "    </tr>\n",
       "  </tbody>\n",
       "</table>\n",
       "</div>"
      ],
      "text/plain": [
       "   Credit_Card_Issuing\n",
       "0                    0\n",
       "1                    0"
      ]
     },
     "execution_count": 20,
     "metadata": {},
     "output_type": "execute_result"
    }
   ],
   "source": [
    "y_processed.head(2)"
   ]
  },
  {
   "cell_type": "markdown",
   "id": "933a7551-56f4-45bc-af5f-d1b512ee9453",
   "metadata": {},
   "source": [
    "# Split the data into train,test and validation"
   ]
  },
  {
   "cell_type": "code",
   "execution_count": 23,
   "id": "166683e1-3858-45c0-8447-3befd186f286",
   "metadata": {},
   "outputs": [],
   "source": [
    "X_train_val, X_test, y_train_val, y_test = train_test_split(X_processed, y_processed, test_size=0.2, random_state=42)\n",
    "X_train, X_val, y_train, y_val = train_test_split( X_train_val, y_train_val, test_size=0.1/ (1 - 0.2), random_state=42 )"
   ]
  },
  {
   "cell_type": "markdown",
   "id": "e844076e-efdd-4416-8e86-6ba436370ec7",
   "metadata": {},
   "source": [
    "# Model Fairness Check\n",
    "\n",
    "To ensure that the model accounts for fairness, we evaluated the gender distribution (percentage of females and males) in the training, testing, and validation datasets.\n",
    "\n",
    "## Process:\n",
    "\n",
    "- **Gender Distribution Analysis**: \n",
    "  - We calculated the percentage of females and males in each dataset.\n",
    "  \n",
    "- **Weighting Strategy**:\n",
    "  - If any dataset exhibited a significant imbalance in gender representation, we would implement a weighting function to assign higher weights to the underrepresented group.\n",
    "  \n",
    "- **Outcome**:\n",
    "  - Fortunately, all datasets maintain an approximately equal number of females and males, eliminating the need for additional weighting adjustments.\n"
   ]
  },
  {
   "cell_type": "code",
   "execution_count": 26,
   "id": "a2bfb90c-0f9e-465f-b07a-3f68245ead03",
   "metadata": {},
   "outputs": [
    {
     "name": "stdout",
     "output_type": "stream",
     "text": [
      "Training Set - Percentage of Females: 49.94%, Percentage of Males: 50.06%\n",
      "Validation Set - Percentage of Females: 49.57%, Percentage of Males: 50.43%\n",
      "Test Set - Percentage of Females: 50.06%, Percentage of Males: 49.94%\n"
     ]
    }
   ],
   "source": [
    "# Function to calculate gender percentages\n",
    "def calculate_gender_percentages(df):\n",
    "    total_females = df['Gender_Female'].sum()\n",
    "    total_males = df['Gender_Male'].sum()\n",
    "    total_population = total_females + total_males\n",
    "    \n",
    "    percentage_female = (total_females / total_population) * 100 if total_population > 0 else 0\n",
    "    percentage_male = (total_males / total_population) * 100 if total_population > 0 else 0\n",
    "    \n",
    "    return percentage_female, percentage_male\n",
    "\n",
    "# Calculate percentages for each set\n",
    "train_percentage_female, train_percentage_male = calculate_gender_percentages(X_train)\n",
    "val_percentage_female, val_percentage_male = calculate_gender_percentages(X_val)\n",
    "test_percentage_female, test_percentage_male = calculate_gender_percentages(X_test)\n",
    "\n",
    "# Output the results\n",
    "print(f\"Training Set - Percentage of Females: {train_percentage_female:.2f}%, Percentage of Males: {train_percentage_male:.2f}%\")\n",
    "print(f\"Validation Set - Percentage of Females: {val_percentage_female:.2f}%, Percentage of Males: {val_percentage_male:.2f}%\")\n",
    "print(f\"Test Set - Percentage of Females: {test_percentage_female:.2f}%, Percentage of Males: {test_percentage_male:.2f}%\")\n"
   ]
  },
  {
   "cell_type": "markdown",
   "id": "64fe8f5d-7b46-4a8a-9cc5-3b0ec25f466b",
   "metadata": {},
   "source": [
    "# Ensuring the Model Handles Variance and Bias Factors\n",
    "\n",
    "To ensure that the model effectively manages both variance and bias factors, we employed the following strategies:\n",
    "\n",
    "1. **Cross-Validation for Variance**: \n",
    "   - We utilized cross-validation to assess how the model's performance varies across different subsets of the data. This helps in understanding how well the model generalizes to unseen data, thereby addressing the variance factor.\n",
    "\n",
    "2. **Accuracy for Bias**: \n",
    "   - We measured accuracy as a metric to evaluate the model's performance. This allows us to understand how well the model predicts the true labels, helping us to identify and address any potential bias in the model's predictions.\n",
    "\n",
    "By combining these approaches, we ensure a robust evaluation of our model's performance, taking into account both variance and bias.\n"
   ]
  },
  {
   "cell_type": "code",
   "execution_count": 29,
   "id": "b3cbf948-33df-40ca-baef-7024541aee12",
   "metadata": {},
   "outputs": [
    {
     "name": "stdout",
     "output_type": "stream",
     "text": [
      "Best Model: LogisticRegression, Best Params: {'max_iter': 50}\n",
      "Best Model: SVC, Best Params: {'C': 0.1, 'kernel': 'linear'}\n",
      "Best Model: XGBClassifier, Best Params: {'learning_rate': 0.1, 'max_depth': 5}\n",
      "Best Model: RandomForestClassifier, Best Params: {'max_depth': 10, 'min_samples_split': 5}\n",
      "Best Model: LogisticRegression, Best Params: {'max_iter': 50}\n",
      "Best Model: SVC, Best Params: {'C': 0.1, 'kernel': 'linear'}\n",
      "Best Model: XGBClassifier, Best Params: {'learning_rate': 0.1, 'max_depth': 5}\n",
      "Best Model: RandomForestClassifier, Best Params: {'max_depth': 10, 'min_samples_split': 5}\n"
     ]
    }
   ],
   "source": [
    "models = [\n",
    "    {\n",
    "        'model': LogisticRegression(),\n",
    "        'parms': {  \n",
    "            'max_iter': [50, 100]\n",
    "        }\n",
    "    },\n",
    "    {\n",
    "        'model': SVC(),\n",
    "        'parms': {\n",
    "            'C': [0.1, 1],\n",
    "            'kernel': ['linear', 'poly']  \n",
    "        }\n",
    "    },\n",
    "    {\n",
    "        'model': XGBClassifier(),\n",
    "        'parms': {\n",
    "            'learning_rate': [0.01, 0.1],\n",
    "            'max_depth': [3, 5]\n",
    "        }\n",
    "    },\n",
    "    {\n",
    "        'model': RandomForestClassifier(),\n",
    "        'parms': {\n",
    "            'max_depth': [10, 20],\n",
    "            'min_samples_split': [2, 5]\n",
    "        }\n",
    "    }\n",
    "]\n",
    "\n",
    "def grid_search_for_models(X_train, y_train, models, n_iter=8, random_state=42):\n",
    "    best_model_for_each_model = []  \n",
    "    for entry in models:\n",
    "        model = entry['model']\n",
    "        parms = entry['parms']\n",
    "        \n",
    "        # Initialize GridSearchCV\n",
    "        grid_search = GridSearchCV(estimator=model, param_grid=parms, scoring='accuracy', cv=5)\n",
    "\n",
    "        # Fit the model with random search (using ravel to ensure y_train is 1D)\n",
    "        grid_search.fit(X_train, y_train.values.ravel())\n",
    "\n",
    "        # Get the best model and its parameters\n",
    "        best_model = grid_search.best_estimator_\n",
    "        best_params = grid_search.best_params_\n",
    "        best_model_for_each_model.append({'model': best_model, 'params': best_params})\n",
    "        print(f\"Best Model: {best_model.__class__.__name__}, Best Params: {best_params}\")\n",
    "\n",
    "    return best_model_for_each_model\n",
    "\n",
    "# Call the function to get the best models\n",
    "best_models = grid_search_for_models(X_train, y_train, models)\n",
    "\n",
    "# Output best models and parameters\n",
    "for entry in best_models:\n",
    "    print(f\"Best Model: {entry['model'].__class__.__name__}, Best Params: {entry['params']}\")"
   ]
  },
  {
   "cell_type": "markdown",
   "id": "e60fbd7f-cb08-4e2a-8df1-b3a655b4199a",
   "metadata": {},
   "source": [
    "# Saving the Best Models "
   ]
  },
  {
   "cell_type": "code",
   "execution_count": 31,
   "id": "2204e040-8572-402c-89f4-61ff4c6115b5",
   "metadata": {},
   "outputs": [
    {
     "name": "stdout",
     "output_type": "stream",
     "text": [
      "Saved LogisticRegression to LogisticRegression_best_model.pkl\n",
      "Saved SVC to SVC_best_model.pkl\n",
      "Saved XGBClassifier to XGBClassifier_best_model.pkl\n",
      "Saved RandomForestClassifier to RandomForestClassifier_best_model.pkl\n"
     ]
    }
   ],
   "source": [
    "manager = ModelManager()\n",
    "manager.save_models_separately(best_models)"
   ]
  },
  {
   "cell_type": "markdown",
   "id": "d876c643-2b3d-4036-8edd-d81c56d41b8b",
   "metadata": {},
   "source": [
    "# loading the Best Models"
   ]
  },
  {
   "cell_type": "code",
   "execution_count": 33,
   "id": "fb8f4302-054b-4f90-bbc2-26a087ef8bdd",
   "metadata": {},
   "outputs": [
    {
     "name": "stdout",
     "output_type": "stream",
     "text": [
      "Looking for LogisticRegression at LogisticRegression_best_model.pkl\n",
      "Loaded LogisticRegression from LogisticRegression_best_model.pkl\n",
      "Looking for SVC at SVC_best_model.pkl\n",
      "Loaded SVC from SVC_best_model.pkl\n",
      "Looking for XGBClassifier at XGBClassifier_best_model.pkl\n",
      "Loaded XGBClassifier from XGBClassifier_best_model.pkl\n",
      "Looking for RandomForestClassifier at RandomForestClassifier_best_model.pkl\n",
      "Loaded RandomForestClassifier from RandomForestClassifier_best_model.pkl\n"
     ]
    }
   ],
   "source": [
    "manager = ModelManager()\n",
    "# Load each model by its name\n",
    "logistic_regression_data = manager.load_model('LogisticRegression')\n",
    "svc_data = manager.load_model('SVC')\n",
    "xgb_classifier_data = manager.load_model('XGBClassifier')\n",
    "random_forest_data = manager.load_model('RandomForestClassifier')"
   ]
  },
  {
   "cell_type": "markdown",
   "id": "e1a0a5ee-cc3c-4475-901c-73b70fea6677",
   "metadata": {},
   "source": [
    "# Model Selection part\n",
    "after we did the previous steps , we need to select which is best one from the best models"
   ]
  },
  {
   "cell_type": "code",
   "execution_count": 35,
   "id": "99bfc0c8-4873-4e39-9cb7-ebe7e59ea9b0",
   "metadata": {},
   "outputs": [],
   "source": [
    "models_data = {\n",
    "    'Logistic Regression': logistic_regression_data,\n",
    "    'SVC': svc_data,\n",
    "    'XGBClassifier': xgb_classifier_data,\n",
    "    'RandomForestClassifier': random_forest_data\n",
    "}"
   ]
  },
  {
   "cell_type": "markdown",
   "id": "0a6dcaf4-22e0-4b70-aa92-d9de58c94c55",
   "metadata": {},
   "source": [
    "# Drawing the ROC Curve\n",
    "\n",
    "The Receiver Operating Characteristic (ROC) curve is a valuable tool for evaluating the performance of classification models. The model with the largest area under the ROC curve (AUC) is considered the best model, as it indicates a higher true positive rate while maintaining a low false positive rate.\n",
    "\n",
    "In this case, however, we observed that the AUC values for the models are almost identical, suggesting that they have similar performance levels. This finding highlights the need for further evaluation or consideration of additional metrics to distinguish between the models effectively.\n"
   ]
  },
  {
   "cell_type": "code",
   "execution_count": 37,
   "id": "0adf5faa-45f8-4b09-beef-8c5262af7cb4",
   "metadata": {},
   "outputs": [
    {
     "data": {
      "image/png": "[encoded data removed]",
      "text/plain": [
       "<Figure size 1000x800 with 1 Axes>"
      ]
     },
     "metadata": {},
     "output_type": "display_data"
    }
   ],
   "source": [
    "plt.figure(figsize=(10, 8))\n",
    "for model_name, data in models_data.items():\n",
    "    model = data['model']\n",
    "    y_pred=model.predict(X_test)\n",
    "    \n",
    "    # Compute ROC curve and AUC\n",
    "    fpr, tpr, _ = roc_curve(y_test, y_pred)\n",
    "    roc_auc = auc(fpr, tpr)\n",
    "    # Plot ROC curve\n",
    "    plt.plot(fpr, tpr, label=f\"{model_name} (AUC = {roc_auc:.2f})\")\n",
    "\n",
    "plt.plot([0, 1], [0, 1], 'k--', label=\"Random Guessing\")  # Diagonal line for random chance\n",
    "plt.xlim([0.0, 1.0])\n",
    "plt.ylim([0.0, 1.05])\n",
    "plt.xlabel(\"False Positive Rate\")\n",
    "plt.ylabel(\"True Positive Rate\")\n",
    "plt.title(\"ROC Curve for Each Model\")\n",
    "plt.legend(loc=\"lower right\")\n",
    "plt.show()"
   ]
  },
  {
   "cell_type": "markdown",
   "id": "768aa5fb-c423-43de-81b5-eb5b131b8547",
   "metadata": {},
   "source": [
    "# Confusion Matrix Analysis\n",
    "\n",
    "When examining the confusion matrices, we found that the results across models are almost identical. However, in our specific case, the priority is to avoid approving credit applications that should be denied. Therefore, our primary concern is minimizing false positives (FP).\n",
    "\n",
    "Given this focus, the best-performing model is the one with the lowest number of false positives. In this analysis, Logistic Regression emerged as the top model, as it demonstrated the least amount of false positives among the evaluated classifiers.\n"
   ]
  },
  {
   "cell_type": "code",
   "execution_count": 39,
   "id": "029bf04e-511b-4768-8e7d-58afd521fbf8",
   "metadata": {},
   "outputs": [
    {
     "data": {
      "image/png": "[encoded data removed]",
      "text/plain": [
       "<Figure size 640x480 with 2 Axes>"
      ]
     },
     "metadata": {},
     "output_type": "display_data"
    },
    {
     "data": {
      "image/png": "[encoded data removed]",
      "text/plain": [
       "<Figure size 640x480 with 2 Axes>"
      ]
     },
     "metadata": {},
     "output_type": "display_data"
    },
    {
     "data": {
      "image/png": "[encoded data removed]",
      "text/plain": [
       "<Figure size 640x480 with 2 Axes>"
      ]
     },
     "metadata": {},
     "output_type": "display_data"
    },
    {
     "data": {
      "image/png": "[encoded data removed]",
      "text/plain": [
       "<Figure size 640x480 with 2 Axes>"
      ]
     },
     "metadata": {},
     "output_type": "display_data"
    }
   ],
   "source": [
    "for model_name, data in models_data.items():\n",
    "    model = data['model']  # Loaded model\n",
    "\n",
    "    # Predict class labels for the test set\n",
    "    y_pred = model.predict(X_test)\n",
    "    \n",
    "    # Generate confusion matrix\n",
    "    cm = confusion_matrix(y_test, y_pred)\n",
    "    \n",
    "    # Display confusion matrix\n",
    "    disp = ConfusionMatrixDisplay(confusion_matrix=cm, display_labels=model.classes_)\n",
    "    disp.plot(cmap='Blues')\n",
    "    plt.title(f\"Confusion Matrix for {model_name}\")\n",
    "    plt.show()\n"
   ]
  },
  {
   "cell_type": "markdown",
   "id": "1ecc602b-e304-4dbe-b6c3-a27b853442b6",
   "metadata": {},
   "source": [
    "# Error Analysis by Gender\n",
    "\n",
    "To evaluate fairness in our models, we conducted an error analysis segmented by gender. The results indicate that the models exhibit nearly identical error rates for both male and female participants. This suggests that the models handle gender-related predictions equitably, with no significant bias towards either gender type.\n"
   ]
  },
  {
   "cell_type": "code",
   "execution_count": 40,
   "id": "85966f4a-c9cc-4d3e-ad0b-a255a51a7a38",
   "metadata": {},
   "outputs": [
    {
     "name": "stdout",
     "output_type": "stream",
     "text": [
      "Error rates for Logistic Regression:\n",
      "   Gender  Error Rate\n",
      "0  Female    0.028693\n",
      "1    Male    0.026104\n",
      "\n",
      "Error rates for SVC:\n",
      "   Gender  Error Rate\n",
      "0  Female    0.028818\n",
      "1    Male    0.026104\n",
      "\n",
      "Error rates for XGBClassifier:\n",
      "   Gender  Error Rate\n",
      "0  Female    0.028718\n",
      "1    Male    0.026255\n",
      "\n",
      "Error rates for RandomForestClassifier:\n",
      "   Gender  Error Rate\n",
      "0  Female    0.028992\n",
      "1    Male    0.026480\n",
      "\n"
     ]
    }
   ],
   "source": [
    "\n",
    "# Create a DataFrame to store error rates per gender for each model\n",
    "error_rates = {}\n",
    "\n",
    "for model_name, data in models_data.items():\n",
    "    model = data['model']  # Loaded model\n",
    "    \n",
    "    # Get predictions from the model\n",
    "    y_pred = model.predict(X_test)\n",
    "\n",
    "    # Ensure that y_test is a 1D array\n",
    "    y_test_flat = y_test.values.flatten()  \n",
    "    y_pred_flat = y_pred.flatten() \n",
    "    \n",
    "    # Create a DataFrame to hold true values, predictions, and gender\n",
    "    gender_column = df.loc[y_test.index, 'Gender']  \n",
    "    if gender_column.ndim > 1:\n",
    "        gender_column = gender_column.values.flatten()  \n",
    "\n",
    "    # Create results DataFrame\n",
    "    results_df = pd.DataFrame({\n",
    "        'True Labels': y_test_flat, \n",
    "        'Predictions': y_pred_flat,  \n",
    "        'Gender': gender_column  \n",
    "    })\n",
    "    \n",
    "    # Calculate the error (1 - correct predictions)\n",
    "    results_df['Error'] = results_df['True Labels'] != results_df['Predictions']\n",
    "    \n",
    "    # Calculate error rates per gender\n",
    "    error_rate_per_gender = results_df.groupby('Gender')['Error'].mean().reset_index()\n",
    "    \n",
    "    # Rename the columns for clarity\n",
    "    error_rate_per_gender.columns = ['Gender', 'Error Rate']\n",
    "    \n",
    "    # Store the results in the dictionary\n",
    "    error_rates[model_name] = error_rate_per_gender\n",
    "\n",
    "# Display the error rates for each model\n",
    "for model_name, error_rate in error_rates.items():\n",
    "    print(f\"Error rates for {model_name}:\")\n",
    "    print(error_rate)\n",
    "    print()  \n"
   ]
  },
  {
   "cell_type": "markdown",
   "id": "8871c47a-77a0-4920-8557-87f591a003fd",
   "metadata": {},
   "source": [
    "\n",
    "\n",
    "### Model Interpretability: Feature Importance Scores\n",
    "\n",
    "#### 1. Logistic Regression\n",
    "- **Income** is the most significant feature (56.63), while **Gender_Female** and **Gender_Male** have negative importance, indicating potential bias. This model is highly interpretable due to its clear feature importance values.\n",
    "\n",
    "#### 2. SVC\n",
    "- **Income** dominates (26.41), with both gender features showing negative importance. However, SVC generally offers less interpretability compared to linear models.\n",
    "\n",
    "#### 3. XGBoost Classifier\n",
    "- **Income** remains important (0.58), and **Gender_Female** has a positive score (0.28). While this model provides some interpretability, it is more complex and less transparent than logistic regression.\n",
    "\n",
    "#### 4. Random Forest Classifier\n",
    "- **Income** is crucial (0.84), with minimal contributions from gender features. This model is less interpretable because of its ensemble nature, making it harder to discern feature impact clearly.\n",
    "\n",
    "### Conclusion\n",
    "**Logistic Regression** offers the highest interpretability, followed by **SVC** and **XGBoost**, with **Random Forest** being the least interpretable due to its complexity.7406\n",
    "5   Num_Children    0.000755"
   ]
  },
  {
   "cell_type": "code",
   "execution_count": 45,
   "id": "905a9fe2-855d-46b4-818c-5ac119db66b2",
   "metadata": {},
   "outputs": [
    {
     "name": "stdout",
     "output_type": "stream",
     "text": [
      "Feature importances for Logistic Regression:\n",
      "         Feature  Importance\n",
      "0         Income   56.626187\n",
      "1    Own_Housing    4.420723\n",
      "2        Own_Car    1.913403\n",
      "3   Num_Children   -0.001828\n",
      "4    Gender_Male   -8.355581\n",
      "5  Gender_Female  -14.650782\n",
      "\n",
      "Feature importances for SVC:\n",
      "         Feature  Importance\n",
      "0         Income   26.413798\n",
      "1    Own_Housing    2.071554\n",
      "2    Gender_Male    1.467956\n",
      "3        Own_Car    0.903336\n",
      "4   Num_Children   -0.002890\n",
      "5  Gender_Female   -1.467956\n",
      "\n",
      "Feature importances for XGBClassifier:\n",
      "         Feature  Importance\n",
      "0         Income    0.584681\n",
      "1  Gender_Female    0.284466\n",
      "2    Own_Housing    0.096817\n",
      "3        Own_Car    0.033657\n",
      "4   Num_Children    0.000380\n",
      "5    Gender_Male    0.000000\n",
      "\n",
      "Feature importances for RandomForestClassifier:\n",
      "         Feature  Importance\n",
      "0         Income    0.846550\n",
      "1  Gender_Female    0.072065\n",
      "2    Gender_Male    0.042168\n",
      "3    Own_Housing    0.031146\n",
      "4        Own_Car    0.007294\n",
      "5   Num_Children    0.000777\n",
      "\n"
     ]
    }
   ],
   "source": [
    "# Create a DataFrame to store feature importances for each model\n",
    "feature_importances = {}\n",
    "\n",
    "# Loop through each model to get feature importances\n",
    "for model_name, data in models_data.items():\n",
    "    model = data['model']  # Loaded model\n",
    "\n",
    "    # Calculate feature importances\n",
    "    if hasattr(model, 'coef_'):  # For Logistic Regression and SVC with linear kernel\n",
    "        feature_importances[model_name] = model.coef_[0] \n",
    "    elif hasattr(model, 'feature_importances_'):  # For Random Forest and XGBoost\n",
    "        feature_importances[model_name] = model.feature_importances_\n",
    "    else:\n",
    "        # For SVC with non-linear kernel, use permutation importance\n",
    "        result = permutation_importance(model, X_test, y_test.values.flatten(), n_repeats=10, random_state=42)\n",
    "        feature_importances[model_name] = result.importances_mean\n",
    "\n",
    "# Display feature importances for each model\n",
    "for model_name, importance in feature_importances.items():\n",
    "    print(f\"Feature importances for {model_name}:\")\n",
    "    if isinstance(importance, np.ndarray):\n",
    "        importance_df = pd.DataFrame({\n",
    "            'Feature': X_test.columns,  \n",
    "            'Importance': importance\n",
    "        })\n",
    "        print(importance_df.sort_values(by='Importance', ascending=False).reset_index(drop=True))\n",
    "    else:\n",
    "        print(\"No importance score available.\")\n",
    "    print()  \n"
   ]
  },
  {
   "cell_type": "markdown",
   "id": "071909e8-0e76-4e90-809d-dd37b85ab922",
   "metadata": {},
   "source": [
    "# final selection is \n",
    "the LogisticRegression_best_model.pkl\n",
    "# example to how to use model_pipeline"
   ]
  },
  {
   "cell_type": "code",
   "execution_count": 55,
   "id": "4fa75db0-6cc2-4564-a1f3-b593154a5180",
   "metadata": {},
   "outputs": [],
   "source": [
    "data_path= 'credit_card_train.csv'\n",
    "df=pd.read_csv(data_path)\n",
    "feature_names = (['Income', 'Own_Car', 'Own_Housing','Gender','Num_Children'])\n",
    "X = df.drop('Credit_Card_Issuing', axis=1)  \n",
    "y = df['Credit_Card_Issuing']  \n",
    "X_train_val, X_test, y_train_val, y_test = train_test_split(X, y, test_size=0.2, random_state=42)\n",
    "X_test=X_test[feature_names]"
   ]
  },
  {
   "cell_type": "code",
   "execution_count": 57,
   "id": "1c470940-7399-48e4-b281-e50e9c9f754b",
   "metadata": {},
   "outputs": [
    {
     "name": "stdout",
     "output_type": "stream",
     "text": [
      "Accuracy: 0.9726\n",
      "Precision: 0.9652\n",
      "Recall: 0.9639\n",
      "\n",
      "Classification Report:\n",
      "              precision    recall  f1-score   support\n",
      "\n",
      "           0       0.98      0.98      0.98     49069\n",
      "           1       0.97      0.96      0.96     30931\n",
      "\n",
      "    accuracy                           0.97     80000\n",
      "   macro avg       0.97      0.97      0.97     80000\n",
      "weighted avg       0.97      0.97      0.97     80000\n",
      "\n"
     ]
    }
   ],
   "source": [
    "model_pipeline = ModelPredictionPipeline('LogisticRegression_best_model.pkl')\n",
    "# Make predictions using the model pipeline\n",
    "predictions = model_pipeline.predict(X_test)\n",
    "\n",
    "# Apply target preprocessing to y_test\n",
    "y_test = target_pipeline.fit_transform(y_test)\n",
    "y_test = pd.DataFrame(y_test, columns=['Credit_Card_Issuing'])\n",
    "\n",
    "# Ensure that y_test is a 1D array for metrics calculations\n",
    "y_test_values = y_test['Credit_Card_Issuing'].values\n",
    "\n",
    "# Calculate accuracy, precision, and recall\n",
    "accuracy = accuracy_score(y_test_values, predictions)\n",
    "precision = precision_score(y_test_values, predictions)\n",
    "recall = recall_score(y_test_values, predictions)\n",
    "\n",
    "# Print the results\n",
    "print(f\"Accuracy: {accuracy:.4f}\")\n",
    "print(f\"Precision: {precision:.4f}\")\n",
    "print(f\"Recall: {recall:.4f}\")\n",
    "\n",
    "#  print a classification report for more detailed metrics\n",
    "print(\"\\nClassification Report:\")\n",
    "print(classification_report(y_test_values, predictions))\n"
   ]
  },
  {
   "cell_type": "code",
   "execution_count": null,
   "id": "498bd62b-e1f5-45a6-a2c3-cd0f04c7a429",
   "metadata": {},
   "outputs": [],
   "source": []
  }
 ],
 "metadata": {
  "kernelspec": {
   "display_name": "Python 3 (ipykernel)",
   "language": "python",
   "name": "python3"
  },
  "language_info": {
   "codemirror_mode": {
    "name": "ipython",
    "version": 3
   },
   "file_extension": ".py",
   "mimetype": "text/x-python",
   "name": "python",
   "nbconvert_exporter": "python",
   "pygments_lexer": "ipython3",
   "version": "3.12.3"
  }
 },
 "nbformat": 4,
 "nbformat_minor": 5
}

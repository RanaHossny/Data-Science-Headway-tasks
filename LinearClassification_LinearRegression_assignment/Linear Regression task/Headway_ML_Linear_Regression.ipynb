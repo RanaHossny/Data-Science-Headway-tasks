{
 "cells": [
  {
   "cell_type": "markdown",
   "metadata": {
    "colab_type": "text",
    "id": "1mpMEcKhrgW2"
   },
   "source": [
    "# Machine Learning: Session 2"
   ]
  },
  {
   "cell_type": "markdown",
   "metadata": {},
   "source": [
    "## Regression, regularization and cross-validation"
   ]
  },
  {
   "cell_type": "markdown",
   "metadata": {
    "colab_type": "text",
    "id": "ihqFj1pFrgW6"
   },
   "source": [
    "In this task you will experiment with linear regression and see what happens when we use regularized versions of it. More precisely, you will try out Ridge and Lasso regularization. In addition, we will see how using cross-validation helps us to get more stable estimates for our performance."
   ]
  },
  {
   "cell_type": "markdown",
   "metadata": {
    "colab_type": "text",
    "id": "3UbfxbEFrgW-"
   },
   "source": [
    "Read in the data in **data.csv** and split it into training (50%) and testing (50%) set. Use random seed 0 (train_test_split method)."
   ]
  },
  {
   "cell_type": "code",
   "execution_count": 1,
   "metadata": {
    "colab": {},
    "colab_type": "code",
    "id": "YmuuypBBrgXB"
   },
   "outputs": [],
   "source": [
    "import pandas as pd\n",
    "import sklearn\n",
    "import numpy as np\n",
    "\n",
    "CRED = '\\033[91m'\n",
    "CEND = '\\033[0m'\n",
    "\n",
    "data = pd.read_csv(\"data.csv\", index_col = 0)"
   ]
  },
  {
   "cell_type": "code",
   "execution_count": 2,
   "metadata": {},
   "outputs": [],
   "source": [
    "##### YOUR CODE STARTS ##### (please do not delete this line)"
   ]
  },
  {
   "cell_type": "code",
   "execution_count": 3,
   "metadata": {},
   "outputs": [],
   "source": [
    "from sklearn.model_selection import train_test_split\n",
    "X = data.drop(columns=['y'])  # Drop the target variable column\n",
    "y = data['y']                  # Select the target variable\n",
    "\n",
    "X_train, X_test, y_train, y_test = train_test_split(X, y, test_size=0.5, random_state=0)\n"
   ]
  },
  {
   "cell_type": "code",
   "execution_count": 4,
   "metadata": {},
   "outputs": [],
   "source": [
    "##### YOUR CODE ENDS ##### (please do not delete this line)"
   ]
  },
  {
   "cell_type": "markdown",
   "metadata": {
    "colab_type": "text",
    "id": "WUMSEYExrgXe"
   },
   "source": [
    "## Task 1. Multivariate linear regression (1 point)"
   ]
  },
  {
   "cell_type": "markdown",
   "metadata": {
    "colab_type": "text",
    "id": "9MpPBPoOrgXp"
   },
   "source": [
    "#### <font color='purple'>(a) Implement the fitting procedure of non-regularized multivariate ordinary least squares linear regression, as presented in the lecture slides (matrix operations). Fit on the training data and save the coefficients and the intercept for use in subtask (1c). Print out the coefficients corresponding to the five first features."
   ]
  },
  {
   "cell_type": "code",
   "execution_count": 5,
   "metadata": {
    "colab": {},
    "colab_type": "code",
    "id": "jb4ZKEeArgXt"
   },
   "outputs": [],
   "source": [
    "##### YOUR CODE STARTS ##### (please do not delete this line)"
   ]
  },
  {
   "cell_type": "code",
   "execution_count": 6,
   "metadata": {},
   "outputs": [],
   "source": [
    "# Add a column of ones to the X_train data to account for the intercept term in the model\n",
    "X_train_with_intercept = np.column_stack((np.ones(X_train.shape[0]), X_train))\n",
    "\n",
    "# Compute the transpose of the training data with the intercept\n",
    "X_train_with_intercept_transpose = X_train_with_intercept.T\n",
    "\n",
    "# Calculate the inverse of the matrix product of X_train_with_intercept_transpose and X_train_with_intercept\n",
    "# This step is a part of the Ordinary Least Squares (OLS) solution formula\n",
    "X_train_with_intercept_transpose_inverse = np.linalg.inv(np.dot(X_train_with_intercept_transpose, X_train_with_intercept))\n",
    "\n",
    "# Compute the OLS coefficients using the formula (X^T * X)^-1 * X^T * y\n",
    "W = np.dot(X_train_with_intercept_transpose_inverse, np.dot(X_train_with_intercept_transpose, y_train))\n",
    "\n",
    "# Extract the first five OLS coefficients, ignoring the intercept term (W[1] to W[5])\n",
    "first_five_my_ols_coefficients = W[1:6]\n"
   ]
  },
  {
   "cell_type": "code",
   "execution_count": 7,
   "metadata": {},
   "outputs": [],
   "source": [
    "##### YOUR CODE ENDS ##### (please do not delete this line)"
   ]
  },
  {
   "cell_type": "code",
   "execution_count": 8,
   "metadata": {},
   "outputs": [
    {
     "name": "stdout",
     "output_type": "stream",
     "text": [
      "Coefficients of five first features according to my OLS implementation: [11.85875833  7.7562925   9.63087962  6.99932448  4.99498325]\n"
     ]
    }
   ],
   "source": [
    "print('Coefficients of five first features according to my OLS implementation:', first_five_my_ols_coefficients)"
   ]
  },
  {
   "cell_type": "markdown",
   "metadata": {
    "colab_type": "text",
    "id": "4-L7ihBRrgX1"
   },
   "source": [
    "#### <font color='purple'>(b) Call out the `sklearn.linear_model.LinearRegression` learning algorithm from the sklearn package. Fit the model on the training data and save it for use in the following subtasks. Print out the coefficients corresponding to the five first features."
   ]
  },
  {
   "cell_type": "code",
   "execution_count": 9,
   "metadata": {
    "colab": {},
    "colab_type": "code",
    "id": "KAm2_i4PrgX9"
   },
   "outputs": [],
   "source": [
    "##### YOUR CODE STARTS ##### (please do not delete this line)"
   ]
  },
  {
   "cell_type": "code",
   "execution_count": 10,
   "metadata": {},
   "outputs": [],
   "source": [
    "from sklearn.linear_model import LinearRegression\n",
    "Non_regularized_linear_reg = LinearRegression().fit(X_train,y_train)\n",
    "\n",
    "first_five_sklearn_ols_coefficients = Non_regularized_linear_reg.coef_[0:5]\n"
   ]
  },
  {
   "cell_type": "code",
   "execution_count": 11,
   "metadata": {},
   "outputs": [],
   "source": [
    "##### YOUR CODE ENDS ##### (please do not delete this line)"
   ]
  },
  {
   "cell_type": "code",
   "execution_count": 12,
   "metadata": {},
   "outputs": [
    {
     "name": "stdout",
     "output_type": "stream",
     "text": [
      "Coefficients of five first features according to sklearn OLS implementation: [11.85875833  7.7562925   9.63087962  6.99932448  4.99498325]\n"
     ]
    }
   ],
   "source": [
    "print('Coefficients of five first features according to sklearn OLS implementation:', first_five_sklearn_ols_coefficients)"
   ]
  },
  {
   "cell_type": "markdown",
   "metadata": {
    "colab_type": "text",
    "id": "qZGgzUlsrgYQ"
   },
   "source": [
    "#### <font color='purple'>(c) Demonstrate that the methods of subtasks (1a) and (1b) give the same results by showing that they find the same coefficients and intercept. </font>\n",
    "\n",
    "You maybe won't get exactly the same results because of precision problems of floats so the idea is to compare if the values are equal up to some precision (e.g. check if the difference is less than 0.000001). If for some reason you are not able to get the assertions to pass with the given precision then please change the precision such that the assertions would pass."
   ]
  },
  {
   "cell_type": "code",
   "execution_count": 13,
   "metadata": {
    "colab": {},
    "colab_type": "code",
    "id": "JJ1AqqkUrgYW"
   },
   "outputs": [
    {
     "name": "stdout",
     "output_type": "stream",
     "text": [
      "The assertions have passed with precision: 1e-06\n"
     ]
    }
   ],
   "source": [
    "try:\n",
    "    ##### YOUR CODE STARTS ##### (please do not delete this line)\n",
    "#     raise NotImplementedError(\"Please assign intercepts and coefficients to the given variables.\")\n",
    "    my_intercept = W[0]\n",
    "    my_coefficients = W[1:]\n",
    "    sklearn_intercept = Non_regularized_linear_reg.intercept_\n",
    "    sklearn_coefficients = Non_regularized_linear_reg.coef_\n",
    "    precision = 0.000001\n",
    "    ##### YOUR CODE ENDS ##### (please do not delete this line)\n",
    "    assert(abs(my_intercept - sklearn_intercept) < precision)\n",
    "    for i in range(99):\n",
    "        assert(abs(my_coefficients[i] - sklearn_coefficients[i]) < precision)\n",
    "    print('The assertions have passed with precision:',precision)\n",
    "except NotImplementedError as e:\n",
    "    print(CRED, \"TODO:\", e, CEND)"
   ]
  },
  {
   "cell_type": "markdown",
   "metadata": {
    "colab_type": "text",
    "id": "OlBDwUAGrgYz"
   },
   "source": [
    "#### <font color='purple'>(d) Using the sklearn model from subtask (1b) predict the results on the training and testing set and calculate and show the root mean square errors (RMSE). Since you need to do the same evaluation in future tasks also, please implement a function 'evaluate' for this."
   ]
  },
  {
   "cell_type": "code",
   "execution_count": 14,
   "metadata": {
    "colab": {},
    "colab_type": "code",
    "id": "XmSVWxLcrgY1"
   },
   "outputs": [
    {
     "name": "stdout",
     "output_type": "stream",
     "text": [
      "\n",
      "#################\n",
      "\n",
      "RMSE train: 2.654269457268623e-14\n",
      "RMSE test: 7.715131133027882\n"
     ]
    }
   ],
   "source": [
    "from sklearn.metrics import mean_squared_error\n",
    "\n",
    "def evaluate(regression_model_class_instance, trainX, trainY, testX, testY):\n",
    "    print(\"\\n#################\\n\")\n",
    "#     print(regression_model_class_instance, '\\n')\n",
    "    \n",
    "    ##### YOUR CODE STARTS ##### (please do not delete this line)\n",
    "#     raise NotImplementedError(\"Implement RMSE for train and test sets.\")\n",
    "    predicted_train_result=regression_model_class_instance.predict(trainX)\n",
    "    predicted_test_result=regression_model_class_instance.predict(testX)\n",
    "    rmse_tr = np.sqrt(mean_squared_error(predicted_train_result,trainY))\n",
    "    rmse_te = np.sqrt(mean_squared_error(predicted_test_result,testY))\n",
    "    ##### YOUR CODE ENDS ##### (please do not delete this line)\n",
    "    print(\"RMSE train:\", rmse_tr)\n",
    "    print(\"RMSE test:\", rmse_te)\n",
    "    \n",
    "    return rmse_tr, rmse_te\n",
    "\n",
    "try:\n",
    "    ##### YOUR CODE STARTS ##### (please do not delete this line)\n",
    "    evaluate(Non_regularized_linear_reg, X_train,y_train, X_test,y_test)\n",
    "    ##### YOUR CODE ENDS ##### (please do not delete this line)\n",
    "except NotImplementedError as e:\n",
    "    print(CRED, \"TODO:\", e, CEND)"
   ]
  },
  {
   "cell_type": "markdown",
   "metadata": {
    "colab_type": "text",
    "id": "NZB8XMDbrgZ5"
   },
   "source": [
    "## Task 2. Ridge & Lambda regularized regression  (1 point)"
   ]
  },
  {
   "cell_type": "markdown",
   "metadata": {
    "colab_type": "text",
    "id": "0JPqAyeqrgZ7"
   },
   "source": [
    "This blogpost might clarify regularization a bit: https://towardsdatascience.com/l1-and-l2-regularization-methods-ce25e7fc831c\n",
    "\n",
    "Intuition behind the regularization: https://towardsdatascience.com/intuitions-on-l1-and-l2-regularisation-235f2db4c261"
   ]
  },
  {
   "cell_type": "markdown",
   "metadata": {
    "colab_type": "text",
    "id": "8DGnURMUrgaK"
   },
   "source": [
    "#### <font color='purple'>(a) Implement the fitting procedure of ridge regression, as presented in the lecture slides (matrix operations). Fit on the training data with regularization parameter equal to 1 and save the coefficients and the intercept for use in subtask (2c). Print out the coefficients corresponding to the five first features."
   ]
  },
  {
   "cell_type": "code",
   "execution_count": 15,
   "metadata": {},
   "outputs": [],
   "source": [
    "##### YOUR CODE STARTS ##### (please do not delete this line)"
   ]
  },
  {
   "cell_type": "code",
   "execution_count": 16,
   "metadata": {},
   "outputs": [],
   "source": [
    "# Add a column of ones to the X_train data to account for the intercept term in the model\n",
    "X_train_with_intercept = np.column_stack((np.ones(X_train.shape[0]), X_train))\n",
    "\n",
    "# Get the number of columns (features) in X_train_with_intercept\n",
    "num_cols = X_train_with_intercept.shape[1]\n",
    "\n",
    "# Set the regularization strength (lambda value) for Ridge regression\n",
    "landa_value = 1\n",
    "\n",
    "# Create a diagonal matrix for the regularization term (lambda * I)\n",
    "# This will add regularization to the diagonal of the matrix (X^T * X)\n",
    "landa = landa_value * np.eye(num_cols)\n",
    "\n",
    "# Calculate the inverse of the matrix product (X^T * X) + lambda * I\n",
    "X_train_with_intercept_transpose_inverse_with_landa = np.linalg.inv(np.dot(X_train_with_intercept_transpose, X_train_with_intercept) + landa)\n",
    "\n",
    "# Compute the Ridge regression coefficients using the formula (X^T * X + λ * I)^-1 * X^T * y\n",
    "W = np.dot(X_train_with_intercept_transpose_inverse_with_landa, np.dot(X_train_with_intercept_transpose, y_train))\n",
    "\n",
    "# Extract the first five Ridge regression coefficients, ignoring the intercept term (W[1] to W[5])\n",
    "first_five_my_ridge_coefficients = W[1:6]"
   ]
  },
  {
   "cell_type": "code",
   "execution_count": 17,
   "metadata": {
    "colab": {},
    "colab_type": "code",
    "id": "VL0VxlXRrgal"
   },
   "outputs": [],
   "source": [
    "##### YOUR CODE ENDS ##### (please do not delete this line)"
   ]
  },
  {
   "cell_type": "code",
   "execution_count": 18,
   "metadata": {},
   "outputs": [
    {
     "name": "stdout",
     "output_type": "stream",
     "text": [
      "Coefficients of five first features according to my ridge implementation: [7.91026896 7.37023604 6.97156822 6.03240044 4.42825097]\n"
     ]
    }
   ],
   "source": [
    "print('Coefficients of five first features according to my ridge implementation:', first_five_my_ridge_coefficients)"
   ]
  },
  {
   "cell_type": "markdown",
   "metadata": {
    "colab_type": "text",
    "id": "uNO6u0zxrgbp"
   },
   "source": [
    "#### <font color='purple'>(b) Call out the `sklearn.linear_model.Ridge` learning algorithm from the sklearn package. Fit the model on the training data with regularization parameter equal to 1 and save it for use in the following subtasks. Print out the coefficients corresponding to the five first features.</font>\n",
    "\n",
    "Use parameters `solver = \"cholesky\", tol = 0.000000000001` in order to get more similar results to your own implementation. The default parameter for the regularization is already 1 so no need to specify that. The parameters `solver` and `tol` are necessary to force sklearn to use closed-form solution. Otherwise it would use numerical optimization which would give more different results from yours. **In the future tasks, please use the default option and don't force it to use the closed-form solution (numerical will be faster!).**"
   ]
  },
  {
   "cell_type": "code",
   "execution_count": 19,
   "metadata": {
    "colab": {},
    "colab_type": "code",
    "id": "HIgmQ8efrgb2"
   },
   "outputs": [],
   "source": [
    "##### YOUR CODE STARTS ##### (please do not delete this line)"
   ]
  },
  {
   "cell_type": "code",
   "execution_count": 20,
   "metadata": {
    "scrolled": true
   },
   "outputs": [],
   "source": [
    "from sklearn.linear_model import Ridge\n",
    "sklearn_model_with_ridge=Ridge(solver = \"cholesky\", tol = 0.000000000001)\n",
    "sklearn_model_with_ridge.fit(X_train,y_train)\n",
    "first_five_sklearn_ridge_coefficients = sklearn_model_with_ridge.coef_[:5] "
   ]
  },
  {
   "cell_type": "code",
   "execution_count": 21,
   "metadata": {},
   "outputs": [],
   "source": [
    "##### YOUR CODE ENDS ##### (please do not delete this line)"
   ]
  },
  {
   "cell_type": "code",
   "execution_count": 22,
   "metadata": {},
   "outputs": [
    {
     "name": "stdout",
     "output_type": "stream",
     "text": [
      "Coefficients of five first features according to my ridge implementation: [7.9028966  7.36974365 6.97110025 6.02447226 4.4245448 ]\n"
     ]
    }
   ],
   "source": [
    "print('Coefficients of five first features according to my ridge implementation:', first_five_sklearn_ridge_coefficients)"
   ]
  },
  {
   "cell_type": "markdown",
   "metadata": {
    "colab_type": "text",
    "id": "w-y4Lqo9rgcs"
   },
   "source": [
    "#### <font color='purple'>(c) Demonstrate the correctess of your implementation the same way as in the previous exercise. For this compare your coefficients and intercept as obtained in subtask (2a) with the coeffiecients and intercept from sklearn, as obtained in subtask (2b). The results can actually vary quite a bit due to implementation differences in matrix operations. Compare that the differences in results (coefficients and intercept) are less than 0.02. If for some reason you are not able to get the assertions to pass with the given precision then please change the precision such that the assertions would pass."
   ]
  },
  {
   "cell_type": "code",
   "execution_count": 23,
   "metadata": {
    "colab": {},
    "colab_type": "code",
    "id": "qxuOfk9Yrgcv"
   },
   "outputs": [
    {
     "name": "stdout",
     "output_type": "stream",
     "text": [
      "The assertions have passed with precision: 0.02\n"
     ]
    }
   ],
   "source": [
    "try:\n",
    "    ##### YOUR CODE STARTS ##### (please do not delete this line)\n",
    "#     raise NotImplementedError(\"Please assign intercepts and coefficients to the given variables.\")\n",
    "    my_ridge_intercept = W[0]\n",
    "    my_ridge_coefficients = W[1:]\n",
    "    sklearn_ridge_intercept = sklearn_model_with_ridge.intercept_\n",
    "    sklearn_ridge_coefficients = sklearn_model_with_ridge.coef_\n",
    "    precision = 0.02\n",
    "    ##### YOUR CODE ENDS ##### (please do not delete this line)\n",
    "    assert(abs(my_ridge_intercept - sklearn_ridge_intercept) < precision)\n",
    "    for i in range(99):\n",
    "        assert(abs(my_ridge_coefficients[i] - sklearn_ridge_coefficients[i]) < precision)\n",
    "    print('The assertions have passed with precision:',precision)\n",
    "except NotImplementedError as e:\n",
    "    print(CRED, \"TODO:\", e, CEND)"
   ]
  },
  {
   "cell_type": "markdown",
   "metadata": {
    "colab_type": "text",
    "id": "khdbJkRirgdQ"
   },
   "source": [
    "#### <font color='purple'>(d) Train a Lasso model using the sklearn package (use the default regularization parameter) and save it for future use. Print out the coefficients corresponding to the five first features.</font>"
   ]
  },
  {
   "cell_type": "code",
   "execution_count": 24,
   "metadata": {
    "colab": {},
    "colab_type": "code",
    "id": "F6W0Syy6rgdS"
   },
   "outputs": [],
   "source": [
    "##### YOUR CODE STARTS ##### (please do not delete this line)"
   ]
  },
  {
   "cell_type": "code",
   "execution_count": 25,
   "metadata": {},
   "outputs": [],
   "source": [
    "from sklearn.linear_model import Lasso\n",
    "sklearn_model_with_Lasso=Lasso()\n",
    "sklearn_model_with_Lasso.fit(X_train,y_train)\n",
    "first_five_sklearn_lasso_coefficients = sklearn_model_with_Lasso.coef_[:5]"
   ]
  },
  {
   "cell_type": "code",
   "execution_count": 26,
   "metadata": {},
   "outputs": [],
   "source": [
    "##### YOUR CODE ENDS ##### (please do not delete this line)"
   ]
  },
  {
   "cell_type": "code",
   "execution_count": 27,
   "metadata": {},
   "outputs": [
    {
     "name": "stdout",
     "output_type": "stream",
     "text": [
      "Coefficients of five first features according to sklearn lasso implementation: [6.94577472 5.59046803 5.11228019 3.00075122 2.42991249]\n"
     ]
    }
   ],
   "source": [
    "print('Coefficients of five first features according to sklearn lasso implementation:', first_five_sklearn_lasso_coefficients)"
   ]
  },
  {
   "cell_type": "markdown",
   "metadata": {
    "colab_type": "text",
    "id": "9EIbGggTrgd3"
   },
   "source": [
    "#### <font color='purple'>(e) Evaluate the sklearn Ridge and Lasso models on the training and testing set and calculate and show the RMSE, using the function 'evaluate' from subtask (1d)."
   ]
  },
  {
   "cell_type": "code",
   "execution_count": 28,
   "metadata": {
    "colab": {},
    "colab_type": "code",
    "id": "hhC5F0Bkrgd5"
   },
   "outputs": [
    {
     "name": "stdout",
     "output_type": "stream",
     "text": [
      "Evaluation of sklearn ridge regression model:\n",
      "\n",
      "#################\n",
      "\n",
      "RMSE train: 0.5159376269540178\n",
      "RMSE test: 4.446220364755528\n",
      "Evaluation of sklearn lasso regression model:\n",
      "\n",
      "#################\n",
      "\n",
      "RMSE train: 4.9841305166287295\n",
      "RMSE test: 5.400343154987264\n"
     ]
    }
   ],
   "source": [
    "try:\n",
    "    print('Evaluation of sklearn ridge regression model:')\n",
    "    ##### YOUR CODE STARTS ##### (please do not delete this line)\n",
    "    evaluate(sklearn_model_with_ridge,X_train,y_train, X_test,y_test)\n",
    "    ##### YOUR CODE ENDS ##### (please do not delete this line)\n",
    "    \n",
    "    print('Evaluation of sklearn lasso regression model:')\n",
    "    ##### YOUR CODE STARTS ##### (please do not delete this line)\n",
    "    evaluate(sklearn_model_with_Lasso,X_train,y_train, X_test,y_test)\n",
    "    ##### YOUR CODE ENDS ##### (please do not delete this line)\n",
    "except NotImplementedError as e:\n",
    "    print(CRED, \"TODO:\", e, CEND)"
   ]
  },
  {
   "cell_type": "markdown",
   "metadata": {
    "colab_type": "text",
    "id": "x7LHNfh3rgeB"
   },
   "source": [
    "## Task 3. Choosing a suitable regularization parameter  (1 point)"
   ]
  },
  {
   "cell_type": "markdown",
   "metadata": {
    "colab_type": "text",
    "id": "EBMOuzErrgeO"
   },
   "source": [
    "Since different parameters can lead to very different results we need to do some parameter tuning and find a suitable regularization parameter for both Ridge and Lasso. We could try out different values and see which ones lead to the best results on the test set. However, then we would overfit to our test data and we would not have an adequate estimate of how good the model is in the end. That is why we need to do parameter tuning only using the training set.\n",
    "\n",
    "Use **alphas = np.linspace(0.01, 10, 100)** for Ridge and **alphas = np.linspace(0.01, 5, 100)** for Lasso. The method generates 100 values with equal steps between the first and second parameter."
   ]
  },
  {
   "cell_type": "markdown",
   "metadata": {
    "colab_type": "text",
    "id": "4zxI4YkTrgef"
   },
   "source": [
    "#### <font color='purple'>(a) **Method 1:** Divide the training set into training and validation set using 90%/10% split and a random seed 0 (train_test_split method). Train Ridge and Lasso models with different alpha values on the training set and calculate the RMSE values on the validation set. Choose and report the alpha that has the best RMSE for Ridge and another alpha that has the best RMSE for Lasso (save both alpha and RMSE values)."
   ]
  },
  {
   "cell_type": "code",
   "execution_count": 29,
   "metadata": {
    "colab": {},
    "colab_type": "code",
    "id": "aP3DO7GArgey"
   },
   "outputs": [
    {
     "name": "stdout",
     "output_type": "stream",
     "text": [
      "(0.21181818181818182, 3.6195061947357146)\n",
      "(0.06040404040404041, 0.6865670399948167)\n"
     ]
    }
   ],
   "source": [
    "def method_1(model,alphas,random_seed):\n",
    "    ##### YOUR CODE STARTS ##### (please do not delete this line)\n",
    "#     raise NotImplementedError(\"Calculate RMSE for Ridge and Lasso models.\")\n",
    "    X_train_1, X_val, y_train_1, y_val = train_test_split(X_train, y_train, test_size=0.1, random_state=random_seed)\n",
    "    rmse = float('inf')\n",
    "    best_alpha=alphas[0]\n",
    "    for alpha in alphas:\n",
    "        model.alpha=alpha\n",
    "        model.fit(X_train_1,y_train_1)\n",
    "        predictions = model.predict(X_val)\n",
    "        rmse_Val = np.sqrt(mean_squared_error(y_val, predictions))\n",
    "        if rmse_Val < rmse:\n",
    "            rmse= rmse_Val\n",
    "            best_alpha= alpha\n",
    "\n",
    "    ##### YOUR CODE ENDS ##### (please do not delete this line)\n",
    "    return best_alpha,rmse\n",
    "\n",
    "try:\n",
    "    ##### YOUR CODE STARTS ##### (please do not delete this line)\n",
    "    alphas_ridge = np.linspace(0.01, 10, 100)\n",
    "    alphas_lasso = np.linspace(0.01, 5, 100)\n",
    "    ridge_1=Ridge()\n",
    "    lasso_1=Lasso()\n",
    "    print(method_1(ridge_1, alphas_ridge,0)) ## ridge\n",
    "    print(method_1(lasso_1, alphas_lasso,0))## lasso\n",
    "    ##### YOUR CODE ENDS ##### (please do not delete this line)\n",
    "except NotImplementedError as e:\n",
    "    print(CRED, \"TODO:\", e, CEND)"
   ]
  },
  {
   "cell_type": "markdown",
   "metadata": {
    "colab_type": "text",
    "id": "8O3tUFzBrgfE"
   },
   "source": [
    "#### <font color='purple'>(b) **Method 2:** Instead of doing only one training/validation split, use 10-fold cross validation. For each alpha value calculate the validation errors for each of the folds and average the results. Then choose and report the alpha that has the best RMSE for Ridge and another alpha that has best RMSE for Lasso (save both alpha and RMSE values). For doing the 10-fold split use the sklearn method KFold (kf = KFold(n_splits=10, random_state = 0, shuffle = True)). To see more about how to iterate through the folds see the documentation for the method."
   ]
  },
  {
   "cell_type": "code",
   "execution_count": 30,
   "metadata": {
    "colab": {},
    "colab_type": "code",
    "id": "JEDmkZNdrgfN"
   },
   "outputs": [
    {
     "name": "stdout",
     "output_type": "stream",
     "text": [
      "(0.21181818181818182, 3.864831998133826)\n",
      "(0.06040404040404041, 0.7472838567224852)\n"
     ]
    }
   ],
   "source": [
    "from sklearn.model_selection import KFold\n",
    "\n",
    "def method_2(model,alphas,random_seed):\n",
    "    ##### YOUR CODE STARTS ##### (please do not delete this line)\n",
    "#     raise NotImplementedError(\"Implement 10-fold cross-validation.\") \n",
    "    kf = KFold(n_splits=10, random_state=random_seed, shuffle=True)\n",
    "    best_alpha = None\n",
    "    rmse = float('inf') \n",
    "    for alpha in alphas:\n",
    "        model.alpha=alpha\n",
    "        rmse_values = []\n",
    "        for train_index, val_index in kf.split(X_train):  \n",
    "            X_train_fold, X_val_fold = X_train.iloc[train_index], X_train.iloc[val_index]\n",
    "            y_train_fold, y_val_fold = y_train.iloc[train_index], y_train.iloc[val_index]\n",
    "            model.fit(X_train_fold, y_train_fold)\n",
    "            predictions = model.predict(X_val_fold)\n",
    "            rmse_temp = np.sqrt(mean_squared_error(y_val_fold, predictions))\n",
    "            rmse_values.append(rmse_temp)\n",
    "            \n",
    "        avg_rmse = np.mean(rmse_values)\n",
    "        \n",
    "        if avg_rmse < rmse:\n",
    "            rmse = avg_rmse\n",
    "            best_alpha = alpha\n",
    "            \n",
    "    ##### YOUR CODE ENDS ##### (please do not delete this line)\n",
    "    return best_alpha,rmse\n",
    "try:\n",
    "    ##### YOUR CODE STARTS ##### (please do not delete this line)\n",
    "    ridge_1=Ridge()\n",
    "    lasso_1=Lasso()\n",
    "    print(method_2(ridge_1, alphas_ridge,0)) ## ridge\n",
    "    print(method_2(lasso_1, alphas_lasso,0))## lasso\n",
    "    ##### YOUR CODE ENDS ##### (please do not delete this line)\n",
    "except NotImplementedError as e:\n",
    "    print(CRED, \"TODO:\", e, CEND)"
   ]
  },
  {
   "cell_type": "markdown",
   "metadata": {
    "colab_type": "text",
    "id": "HXdDbPANrgfo"
   },
   "source": [
    "## Task 4. Comparing the stability of Method 1 and Method 2  (1 point)"
   ]
  },
  {
   "cell_type": "markdown",
   "metadata": {
    "colab_type": "text",
    "id": "78YSJCQprggD"
   },
   "source": [
    "#### <font color='purple'>(a) Run Method 1 and Method 2 both 10 times, every time using a different value 0,1,2,...,9 as the random_state. Report the best alpha and RMSE for both parameter tuning methods and for both regularization methods for each of the 10 trials."
   ]
  },
  {
   "cell_type": "code",
   "execution_count": 31,
   "metadata": {
    "colab": {},
    "colab_type": "code",
    "id": "ludiQ_eVrggc"
   },
   "outputs": [],
   "source": [
    "##### YOUR CODE STARTS ##### (please do not delete this line)"
   ]
  },
  {
   "cell_type": "code",
   "execution_count": 32,
   "metadata": {},
   "outputs": [
    {
     "name": "stdout",
     "output_type": "stream",
     "text": [
      "Results for Method 1:\n",
      "Ridge Results:\n",
      "Best RMSE: 1.567038955844005\n",
      "Best Seed: 6\n",
      "Best Alpha: 0.9181818181818182\n",
      "RMSE Values: [3.6195061947357146, 4.030624058908054, 4.158768566378864, 3.69141936685211, 3.168964217413532, 3.6302900065629897, 1.567038955844005, 3.5761763185009747, 3.386636874698115, 3.586053973592848]\n",
      "\n",
      "Lasso Results:\n",
      "Best RMSE: 0.5332810080270777\n",
      "Best Seed: 9\n",
      "Best Alpha: 0.11080808080808081\n",
      "RMSE Values: [0.6865670399948167, 0.6251290073443013, 0.5368738453196877, 0.5983790930951057, 0.5573902266771666, 0.6890571686367819, 0.8353025677533588, 1.2251311084712135, 0.6685079536241874, 0.5332810080270777]\n",
      "\n",
      "\n",
      "Results for Method 2:\n",
      "Ridge Results:\n",
      "Best RMSE: 3.4401149895757825\n",
      "Best Seed: 2\n",
      "Best Alpha: 0.21181818181818182\n",
      "RMSE Values: [3.864831998133826, 3.7406663398713214, 3.4401149895757825, 4.2984585867837755, 3.747099466797588, 3.5207162696135774, 3.856899043088555, 3.774184150532677, 3.6725958072505436, 3.6281736179516235]\n",
      "\n",
      "Lasso Results:\n",
      "Best RMSE: 0.7295441770474078\n",
      "Best Seed: 4\n",
      "Best Alpha: 0.06040404040404041\n",
      "RMSE Values: [0.7472838567224852, 0.7497148067671704, 0.7637928241939732, 0.7756409709720314, 0.7295441770474078, 0.7326640362950845, 0.7434989936196447, 0.7532342816308917, 0.7597325858758619, 0.7339992728246795]\n",
      "\n",
      "\n"
     ]
    }
   ],
   "source": [
    "class ModelResults:\n",
    "    def __init__(self):\n",
    "        self.best_rmse = float('inf')   # Initialize best RMSE to infinity\n",
    "        self.best_seed = 0              # Initialize best seed to 0\n",
    "        self.best_alpha = None          # Initialize best alpha to None\n",
    "        self.rmse_values = []           # Initialize an empty list for RMSE values\n",
    "    def __str__(self):\n",
    "        return (f\"Best RMSE: {self.best_rmse}\\n\"\n",
    "                f\"Best Seed: {self.best_seed}\\n\"\n",
    "                f\"Best Alpha: {self.best_alpha}\\n\"\n",
    "                f\"RMSE Values: {self.rmse_values}\\n\")\n",
    "    \n",
    "\n",
    "class ResultsMethod:\n",
    "    def __init__(self):\n",
    "        self.ridge = ModelResults()     # Initialize results for Ridge\n",
    "        self.lasso = ModelResults()     # Initialize results for Lasso\n",
    "\n",
    "    def check_rmse(self, model_name, current_rmse, current_seed, current_alpha):\n",
    "        \"\"\"\n",
    "        Check if the current RMSE is better than the stored best RMSE. \n",
    "        If so, update the best RMSE, seed, and alpha.\n",
    "        \"\"\"\n",
    "        # Access the correct model (ridge or lasso)\n",
    "        model = getattr(self, model_name)\n",
    "\n",
    "        if current_rmse < model.best_rmse:\n",
    "            model.best_rmse = current_rmse\n",
    "            model.best_seed = current_seed\n",
    "            model.best_alpha = current_alpha\n",
    "    def __str__(self):\n",
    "        return (f\"Ridge Results:\\n{self.ridge}\\n\"\n",
    "                f\"Lasso Results:\\n{self.lasso}\\n\")\n",
    "\n",
    "        \n",
    "seeds =  np.arange(0, 10)    \n",
    "results_method_1 = ResultsMethod()\n",
    "results_method_2 =ResultsMethod()\n",
    "\n",
    "for seed in seeds:\n",
    "    # Run method_1 for Ridge and capture the best alpha and RMSE\n",
    "    ridge_alpha, ridge_rmse = method_1(ridge_1, alphas_ridge, seed)\n",
    "    results_method_1.ridge.rmse_values.append(ridge_rmse)\n",
    "    # Check if we found a better RMSE for Ridge\n",
    "    results_method_1.check_rmse(\"ridge\", ridge_rmse, seed, ridge_alpha)\n",
    "\n",
    "    # Run method_1 for Lasso and capture the best alpha and RMSE\n",
    "    lasso_alpha, lasso_rmse = method_1(lasso_1, alphas_lasso, seed)\n",
    "    results_method_1.lasso.rmse_values.append(lasso_rmse)\n",
    "    # Check if we found a better RMSE for Lasso\n",
    "    results_method_1.check_rmse(\"lasso\", lasso_rmse, seed, lasso_alpha)\n",
    "\n",
    "    # Run method_2 for Ridge and capture the best alpha and RMSE\n",
    "    ridge_alpha, ridge_rmse = method_2(ridge_1, alphas_ridge, seed)\n",
    "    results_method_2.ridge.rmse_values.append(ridge_rmse)\n",
    "    # Check if we found a better RMSE for Ridge\n",
    "    results_method_2.check_rmse(\"ridge\", ridge_rmse, seed, ridge_alpha)\n",
    "\n",
    "    # Run method_2 for Lasso and capture the best alpha and RMSE\n",
    "    lasso_alpha, lasso_rmse = method_2(lasso_1, alphas_lasso, seed)\n",
    "    results_method_2.lasso.rmse_values.append(lasso_rmse)\n",
    "    # Check if we found a better RMSE for Lasso\n",
    "    results_method_2.check_rmse(\"lasso\", lasso_rmse, seed, lasso_alpha)\n",
    "\n",
    "    \n",
    "# Print the final results\n",
    "print(\"Results for Method 1:\")\n",
    "print(results_method_1)\n",
    "print(\"Results for Method 2:\")\n",
    "print(results_method_2)\n"
   ]
  },
  {
   "cell_type": "code",
   "execution_count": 33,
   "metadata": {},
   "outputs": [],
   "source": [
    "##### YOUR CODE ENDS ##### (please do not delete this line)"
   ]
  },
  {
   "cell_type": "markdown",
   "metadata": {
    "colab_type": "text",
    "id": "LloCKK0srggh"
   },
   "source": [
    "#### <font color='purple'>(b) What can you say about the stability of the methods? Which one gives more stable information about which alpha to use? Which alpha values turn out to be best in the end for these data?"
   ]
  },
  {
   "cell_type": "markdown",
   "metadata": {
    "colab_type": "text",
    "id": "9NLHTnRkrggi"
   },
   "source": [
    "**Answer:**  The second method is more stable as the random state doesn't drastically change it as much due to the k folds, best alpha for Ridge :0.21181818181818182 & best alpha for lasso :0.06040404040404041"
   ]
  },
  {
   "cell_type": "markdown",
   "metadata": {
    "colab_type": "text",
    "id": "BX9NcjAargg5"
   },
   "source": [
    "#### <font color='purple'>(c) Create two plots (one for Ridge and one for Lasso) where on each plot there are two boxplots - one for showing the distribution of the RMSE values for the 10 trials for Method 1 and the other for Method 2."
   ]
  },
  {
   "cell_type": "code",
   "execution_count": 34,
   "metadata": {
    "colab": {},
    "colab_type": "code",
    "id": "4ZAWjj4irgg7"
   },
   "outputs": [],
   "source": [
    "##### YOUR CODE STARTS ##### (please do not delete this line)"
   ]
  },
  {
   "cell_type": "code",
   "execution_count": 35,
   "metadata": {},
   "outputs": [
    {
     "data": {
      "image/png": "[encoded data removed]",
      "text/plain": [
       "<Figure size 864x432 with 2 Axes>"
      ]
     },
     "metadata": {
      "needs_background": "light"
     },
     "output_type": "display_data"
    }
   ],
   "source": [
    "import matplotlib.pyplot as plt\n",
    "import seaborn as sns\n",
    "# Plotting the RMSE distributions\n",
    "plt.figure(figsize=(12, 6))\n",
    "\n",
    "# Plot for Ridge\n",
    "plt.subplot(1, 2, 1)  # 1 row, 2 columns, 1st subplot\n",
    "sns.boxplot(data=[results_method_1.ridge.rmse_values, results_method_2.ridge.rmse_values],\n",
    "            palette=\"Set2\")\n",
    "plt.xticks([0, 1], ['Method 1', 'Method 2'])\n",
    "plt.title('RMSE Distribution for Ridge Regression')\n",
    "plt.ylabel('RMSE')\n",
    "\n",
    "# Plot for Lasso\n",
    "plt.subplot(1, 2, 2)  # 1 row, 2 columns, 2nd subplot\n",
    "sns.boxplot(data=[results_method_1.lasso.rmse_values, results_method_2.lasso.rmse_values],\n",
    "            palette=\"Set2\")\n",
    "plt.xticks([0, 1], ['Method 1', 'Method 2'])\n",
    "plt.title('RMSE Distribution for Lasso Regression')\n",
    "plt.ylabel('RMSE')\n",
    "\n",
    "plt.tight_layout()\n",
    "plt.show()"
   ]
  },
  {
   "cell_type": "code",
   "execution_count": 36,
   "metadata": {},
   "outputs": [],
   "source": [
    "##### YOUR CODE ENDS ##### (please do not delete this line)"
   ]
  },
  {
   "cell_type": "markdown",
   "metadata": {
    "colab_type": "text",
    "id": "k5J5EGGirghH"
   },
   "source": [
    "#### <font color='purple'>(d) Comment on why the results look like they do? In general, when tuning parameters, is it better to use one training-validation split or K-fold cross-validation? Why?"
   ]
  },
  {
   "cell_type": "markdown",
   "metadata": {
    "colab_type": "text",
    "id": "A2aciNQMrghJ"
   },
   "source": [
    "**Answer:** it is better to use K-fold cross-validation as it seems more stable with the changes "
   ]
  },
  {
   "cell_type": "markdown",
   "metadata": {
    "colab_type": "text",
    "id": "JjGQ8zLErghK"
   },
   "source": [
    "## Task 5. Regularization parameter effect on the coefficients  (1 point)"
   ]
  },
  {
   "cell_type": "markdown",
   "metadata": {
    "colab_type": "text",
    "id": "M241kW8MrghM"
   },
   "source": [
    "#### <font color='purple'>(a) The regularization parameter influences the values of the coefficients. Create two plots (one for Ridge and one for Lasso) that have the regularization parameter on the x-axis and coefficient values on the y-axis. You don't have to take all 99 values, you can take for example the first 20. Show each coefficient as a line (on the same plot) and comment on what happens when the regularization parameter increases. </font>"
   ]
  },
  {
   "cell_type": "code",
   "execution_count": 37,
   "metadata": {},
   "outputs": [],
   "source": [
    "##### YOUR CODE STARTS ##### (please do not delete this line)"
   ]
  },
  {
   "cell_type": "code",
   "execution_count": 38,
   "metadata": {},
   "outputs": [
    {
     "data": {
      "image/png": "[encoded data removed]",
      "text/plain": [
       "<Figure size 864x432 with 1 Axes>"
      ]
     },
     "metadata": {
      "needs_background": "light"
     },
     "output_type": "display_data"
    },
    {
     "data": {
      "image/png": "[encoded data removed]",
      "text/plain": [
       "<Figure size 864x432 with 1 Axes>"
      ]
     },
     "metadata": {
      "needs_background": "light"
     },
     "output_type": "display_data"
    }
   ],
   "source": [
    "coefs_num=20\n",
    "def plot_coefficients(alphas, coefs, title):\n",
    "    \"\"\"\n",
    "    Plots the coefficient values for different features across varying regularization parameters (alphas).\n",
    "    \n",
    "    Parameters:\n",
    "    alphas (list or array): A sequence of alpha values (regularization parameters) used in the model.\n",
    "    coefs (list or array): The coefficients corresponding to each alpha value for each feature.\n",
    "    title (str): The title of the plot.\n",
    "    \n",
    "    This function visualizes how the coefficients of the features change as the alpha value is adjusted in a regularization model\n",
    "    (e.g., Ridge or Lasso regression). The x-axis is the log-scale alpha value, and the y-axis represents the coefficient values.\n",
    "    \"\"\"\n",
    "    plt.figure(figsize=(12, 6))\n",
    "    coefs = np.array(coefs)  \n",
    "    for i in range(coefs_num):\n",
    "        plt.plot(alphas, coefs[:, i], label=f'Feature {i+1}')\n",
    "    plt.xlabel(\"Regularization parameter (alpha)\")\n",
    "    plt.ylabel(\"Coefficient value\")\n",
    "    plt.xscale('log')  \n",
    "    plt.title(title)\n",
    "    plt.axhline(0, color='black', lw=0.5, ls='--')\n",
    "    plt.legend(loc='upper right')\n",
    "    plt.grid(True)\n",
    "    plt.show()\n",
    "\n",
    "def get_coefs(model,alphas):\n",
    "    \"\"\"\n",
    "    Function to retrieve coefficients for different regularization parameters (alphas).\n",
    "    Parameters:\n",
    "    - model: The regression model (e.g., Ridge, Lasso) with a modifiable alpha.\n",
    "    - alphas: List or array of alpha values to test with the model.\n",
    "    Returns:\n",
    "    - coefs: List of coefficients for each alpha.\n",
    "    \"\"\"\n",
    "    coefs=[]\n",
    "    for alpha in alphas:\n",
    "        model.alpha=alpha\n",
    "        model.fit(X_train,y_train)\n",
    "        coefs.append(model.coef_)\n",
    "    return coefs\n",
    "\n",
    "ridge=Ridge()\n",
    "ridge_coefs=get_coefs(ridge,alphas_ridge)\n",
    "lasso=Lasso()\n",
    "lasso_coefs=get_coefs(lasso,alphas_lasso)\n",
    "    \n",
    "# Plot coefficients for Ridge\n",
    "plot_coefficients(alphas_ridge[:20], ridge_coefs[:20], title='Ridge Coefficients vs. Regularization Parameter')\n",
    "\n",
    "# Plot coefficients for Lasso\n",
    "plot_coefficients(alphas_lasso[:20], lasso_coefs[:20], title='Lasso Coefficients vs. Regularization Parameter') \n"
   ]
  },
  {
   "cell_type": "code",
   "execution_count": 39,
   "metadata": {
    "colab": {},
    "colab_type": "code",
    "id": "XNFnFd6GrghT"
   },
   "outputs": [],
   "source": [
    "##### YOUR CODE ENDS ##### (please do not delete this line)"
   ]
  },
  {
   "cell_type": "markdown",
   "metadata": {
    "colab_type": "text",
    "id": "ET4Npwibrghn"
   },
   "source": [
    "#### <font color='purple'>(b) What does Ridge regression do and what does Lasso regression do? How do they differ? </font>"
   ]
  },
  {
   "cell_type": "markdown",
   "metadata": {
    "colab_type": "text",
    "id": "M_5BAu77rghp"
   },
   "source": [
    "**Answer:** Ridge tends to shrink coefficients towards zero, but not exactly to zero, while Lasso can lead to feature selection by setting some coefficients to zero, The choice between Ridge and Lasso depends on whether you want a model with all features retained but shrunk (Ridge) or a sparse model with feature selection (Lasso)."
   ]
  },
  {
   "cell_type": "markdown",
   "metadata": {
    "colab_type": "text",
    "id": "sWuThxLJrghq"
   },
   "source": [
    "## Task 6. Evaluating different models  (1 point)"
   ]
  },
  {
   "cell_type": "markdown",
   "metadata": {
    "colab_type": "text",
    "id": "c2b91miZrghr"
   },
   "source": [
    "#### <font color='purple'>(a) Choose the values of alpha for Ridge and Lasso according to subtask (4b). Now let's see which model works best for our data by evaluating the test RMSE. Compare the following models by reporting the training and testing set RMSE: </font>\n",
    "\n",
    "1. Non-regularized linear regression\n",
    "2. Ridge regression with your chosen parameter\n",
    "3. Lasso regression with your chosen parameter\n",
    "4. A \"dumb\" model that always predicts the mean value of y_train\n",
    "5. An ideal model that the instructors have used for generating the data (the true coefficients are [10, 9, 8, 7, 6, 5, 4, 3, 2, 1, 0, 0, ..., 0] and intercept 0)."
   ]
  },
  {
   "cell_type": "code",
   "execution_count": 40,
   "metadata": {
    "colab": {},
    "colab_type": "code",
    "id": "qUmwuUBjrght"
   },
   "outputs": [],
   "source": [
    "##### YOUR CODE STARTS ##### (please do not delete this line)"
   ]
  },
  {
   "cell_type": "code",
   "execution_count": 41,
   "metadata": {},
   "outputs": [
    {
     "name": "stdout",
     "output_type": "stream",
     "text": [
      "The Non-regularized linear regression result:\n",
      "\n",
      "#################\n",
      "\n",
      "RMSE train: 2.654269457268623e-14\n",
      "RMSE test: 7.715131133027882\n",
      "The model coefs: [11.85875833  7.7562925   9.63087962  6.99932448  4.99498325  4.90923495\n",
      "  5.18671037  2.74555819  0.33452138 -0.73463584]\n",
      "\n",
      "The model intercept: 1.5314596091102253\n",
      "#################\n",
      "Ridge regression with best parameter result:\n",
      "\n",
      "#################\n",
      "\n",
      "RMSE train: 0.2075018098760541\n",
      "RMSE test: 3.3836761116400087\n",
      "The model coefs: [8.4297652  8.10396644 7.88357364 6.17906705 4.92734193 3.69170086\n",
      " 4.11997263 2.63372964 1.83672963 1.10006066]\n",
      "\n",
      "The model intercept: -0.3035290613891626\n",
      "#################\n",
      "Lasso regression with best parameter result:\n",
      "\n",
      "#################\n",
      "\n",
      "RMSE train: 0.6219018029371127\n",
      "RMSE test: 0.877686696869183\n",
      "The model coefs: [9.62640612 8.67393401 7.67143504 6.80894392 5.62012525 4.78841295\n",
      " 3.90145211 2.65415616 1.62239929 0.63356972]\n",
      "\n",
      "The model intercept: 0.023463543336781578\n",
      "#################\n",
      "The Dumb Mean Model result:\n",
      "\n",
      "#################\n",
      "\n",
      "RMSE train: 11.047120424571311\n",
      "RMSE test: 11.321862747375917\n",
      "#################\n",
      "The Ideal Model result:\n",
      "\n",
      "#################\n",
      "\n",
      "RMSE train: 0.57494185801066\n",
      "RMSE test: 0.6006181029383403\n",
      "The model coefs: [10  9  8  7  6  5  4  3  2  1]\n",
      "\n",
      "The model intercept: 0\n"
     ]
    }
   ],
   "source": [
    "class DumbMeanModel:\n",
    "    def __init__(self):\n",
    "        self.mean_value = None\n",
    "\n",
    "    def fit(self,X_train,y_train):\n",
    "        # Calculate and store the mean of y_train\n",
    "        self.mean_value = np.mean(y_train)\n",
    "\n",
    "    def predict(self, X):\n",
    "        # Predict the mean for all inputs (ignores the input features X)\n",
    "        return np.full(shape=(X.shape[0],), fill_value=self.mean_value)\n",
    "    def __str__(self):\n",
    "        return \"Dumb Mean Model\"\n",
    "    \n",
    "true_coefficients = np.array([10, 9, 8, 7, 6, 5, 4, 3, 2, 1] + [0]*89) \n",
    "true_intercept = 0  # Intercept is 0\n",
    "    \n",
    "ridge_model=Ridge(alpha=0.21181818181818182)\n",
    "ridge_model.fit(X_train,y_train)\n",
    "\n",
    "lasso_model=Lasso(alpha=0.06040404040404041)\n",
    "lasso_model.fit(X_train,y_train)\n",
    "\n",
    "dumb_model=DumbMeanModel()\n",
    "dumb_model.fit(X_train,y_train)\n",
    "\n",
    "\n",
    "    \n",
    "ideal_model=LinearRegression()\n",
    "ideal_model.coef_=true_coefficients\n",
    "ideal_model.intercept_=true_intercept\n",
    "\n",
    "print(\"The Non-regularized linear regression result:\")\n",
    "evaluate(Non_regularized_linear_reg, X_train, y_train, X_test, y_test)\n",
    "print(f'The model coefs: {Non_regularized_linear_reg.coef_[:10]}')\n",
    "print(f\"\\nThe model intercept: {Non_regularized_linear_reg.intercept_}\")\n",
    "\n",
    "print(\"#################\\nRidge regression with best parameter result:\")\n",
    "evaluate(ridge_model, X_train, y_train, X_test, y_test)\n",
    "print(f'The model coefs: {ridge_model.coef_[:10]}')\n",
    "print(f\"\\nThe model intercept: {ridge_model.intercept_}\")\n",
    "\n",
    "print(\"#################\\nLasso regression with best parameter result:\")\n",
    "evaluate(lasso_model, X_train, y_train, X_test, y_test)\n",
    "print(f'The model coefs: {lasso_model.coef_[:10]}')\n",
    "print(f\"\\nThe model intercept: {lasso_model.intercept_}\")\n",
    "\n",
    "print(\"#################\\nThe Dumb Mean Model result:\")\n",
    "evaluate(dumb_model, X_train, y_train, X_test, y_test)\n",
    "\n",
    "print(\"#################\\nThe Ideal Model result:\")\n",
    "evaluate(ideal_model, X_train, y_train, X_test, y_test)\n",
    "print(f'The model coefs: {ideal_model.coef_[:10]}')\n",
    "print(f\"\\nThe model intercept: {ideal_model.intercept_}\")\n",
    "\n",
    "\n",
    "\n"
   ]
  },
  {
   "cell_type": "code",
   "execution_count": 42,
   "metadata": {},
   "outputs": [],
   "source": [
    "##### YOUR CODE ENDS ##### (please do not delete this line)"
   ]
  },
  {
   "cell_type": "markdown",
   "metadata": {
    "colab_type": "text",
    "id": "qgoYXKLNrgh4"
   },
   "source": [
    "#### <font color='purple'>(b) Which method gives the best results and by looking at which value do you claim that? Why did this method work the best in your opinion?"
   ]
  },
  {
   "cell_type": "markdown",
   "metadata": {
    "colab_type": "text",
    "id": "I5rguRr0rgh6"
   },
   "source": [
    "**Answer:** Lasso, it has the best RMSE results and the test doesn't vary greatly from the train meaning that it didn't overfit"
   ]
  },
  {
   "cell_type": "markdown",
   "metadata": {
    "colab_type": "text",
    "id": "EflwOObYrgiB"
   },
   "source": [
    "#### <font color='purple'>(c) Were all of the \"smart\" models better than the \"dumb\" one (baseline). What would it mean if the learned model would give worse results?"
   ]
  },
  {
   "cell_type": "markdown",
   "metadata": {
    "colab_type": "text",
    "id": "OmoDn4DOrgiJ"
   },
   "source": [
    "**Answer:** yes , they were . if the model get worse results then the dumb , this means it underfits and doesnot learn well"
   ]
  },
  {
   "cell_type": "markdown",
   "metadata": {
    "colab_type": "text",
    "id": "ay6Gws1OrgiL"
   },
   "source": [
    "#### <font color='purple'>(d) Were the learned models far from the ideal one? Were the learned coefficients similar to the true ones?"
   ]
  },
  {
   "cell_type": "markdown",
   "metadata": {
    "colab_type": "text",
    "id": "lNGwKZ1jrgiN"
   },
   "source": [
    "**Answer:** not all of them (Lasso regression) but most of them, not in most cases(Lasso regression)"
   ]
  },
  {
   "cell_type": "markdown",
   "metadata": {
    "colab_type": "text",
    "id": "edUWkelmrgiO"
   },
   "source": [
    "#### <font color='purple'>(e) Which model overfitted the most, how can you see that?"
   ]
  },
  {
   "cell_type": "markdown",
   "metadata": {
    "colab_type": "text",
    "id": "LvcBOUuQrgiQ"
   },
   "source": [
    "**Answer:** \"Ridge regression shows signs of overfitting, as the training loss is almost zero while the test loss is significantly higher.\"This showes the problem (overfitting) and the observation (low training loss, high test loss)."
   ]
  },
  {
   "cell_type": "markdown",
   "metadata": {
    "colab_type": "text",
    "id": "ZQvCr7vqrgiY"
   },
   "source": [
    "#### <font color='purple'>(f) Are regularized methods always better than methods without regularization (not only in this case but in general). Why/why not?"
   ]
  },
  {
   "cell_type": "markdown",
   "metadata": {
    "colab_type": "text",
    "id": "ZCgKEIGzrgic"
   },
   "source": [
    "**Answer:** No, it depends on the problem. Regularization can be helpful if the model is overfitting, but it's important to choose the appropriate regularization technique"
   ]
  },
  {
   "cell_type": "markdown",
   "metadata": {},
   "source": [
    " ## <font color='red'>This was the last task! Please restart and run all before submission!</font>"
   ]
  }
 ],
 "metadata": {
  "anaconda-cloud": {},
  "colab": {
   "name": "HW2.ipynb",
   "provenance": [],
   "version": "0.3.2"
  },
  "kernelspec": {
   "display_name": "Python 3 (ipykernel)",
   "language": "python",
   "name": "python3"
  },
  "language_info": {
   "codemirror_mode": {
    "name": "ipython",
    "version": 3
   },
   "file_extension": ".py",
   "mimetype": "text/x-python",
   "name": "python",
   "nbconvert_exporter": "python",
   "pygments_lexer": "ipython3",
   "version": "3.9.7"
  }
 },
 "nbformat": 4,
 "nbformat_minor": 1
}
